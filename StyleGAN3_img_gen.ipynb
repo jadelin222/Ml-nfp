{
  "nbformat": 4,
  "nbformat_minor": 0,
  "metadata": {
    "colab": {
      "provenance": [],
      "gpuType": "T4"
    },
    "kernelspec": {
      "name": "python3",
      "display_name": "Python 3"
    },
    "language_info": {
      "name": "python"
    },
    "accelerator": "GPU"
  },
  "cells": [
    {
      "cell_type": "markdown",
      "metadata": {
        "id": "Xs28QcYEwPM_"
      },
      "source": [
        "## stylegan3 generate images"
      ]
    },
    {
      "cell_type": "markdown",
      "metadata": {
        "id": "JmFv6TqKGZvW"
      },
      "source": [
        "mount to google drive"
      ]
    },
    {
      "cell_type": "code",
      "metadata": {
        "id": "TL1ERDs1PKJy",
        "colab": {
          "base_uri": "https://localhost:8080/"
        },
        "outputId": "4c8b0d9a-984d-4988-f7a0-5cf8d5c145d6"
      },
      "source": [
        "from google.colab import drive\n",
        "drive.mount('/content/drive')"
      ],
      "execution_count": null,
      "outputs": [
        {
          "output_type": "stream",
          "name": "stdout",
          "text": [
            "Mounted at /content/drive\n"
          ]
        }
      ]
    },
    {
      "cell_type": "markdown",
      "metadata": {
        "id": "Lk0u_TifHy5Y"
      },
      "source": [
        "check model and path"
      ]
    },
    {
      "cell_type": "code",
      "source": [
        "import os\n",
        "\n",
        "root_path = '/content/drive/MyDrive/dmlap-final/stylegan'\n",
        "def createPath(filepath):\n",
        "  os.makedirs(filepath, exist_ok=True)\n",
        "  print(filepath + ' created.')\n",
        "\n",
        "if os.path.isdir(root_path):\n",
        "  print(root_path + ' exists.')\n",
        "else:\n",
        "  createPath(root_path)\n",
        "\n",
        "os.chdir(root_path)"
      ],
      "metadata": {
        "id": "2OJGkYmy_155",
        "colab": {
          "base_uri": "https://localhost:8080/"
        },
        "outputId": "009848bb-22c2-4dd2-8f93-7c85b4a84c7c"
      },
      "execution_count": null,
      "outputs": [
        {
          "output_type": "stream",
          "name": "stdout",
          "text": [
            "/content/drive/MyDrive/dmlap-final/stylegan existed.\n"
          ]
        }
      ]
    },
    {
      "cell_type": "markdown",
      "source": [
        "clone stylegan3, clone once only"
      ],
      "metadata": {
        "id": "AGnyYutaBvrr"
      }
    },
    {
      "cell_type": "code",
      "metadata": {
        "id": "2-BWt1G9fIvX",
        "colab": {
          "base_uri": "https://localhost:8080/"
        },
        "outputId": "7b6d1966-822b-4de0-c94e-5929f37dccc1"
      },
      "source": [
        "!git clone https://github.com/NVlabs/stylegan3.git"
      ],
      "execution_count": null,
      "outputs": [
        {
          "output_type": "stream",
          "name": "stdout",
          "text": [
            "Cloning into 'stylegan3'...\n",
            "remote: Enumerating objects: 212, done.\u001b[K\n",
            "remote: Counting objects: 100% (5/5), done.\u001b[K\n",
            "remote: Compressing objects: 100% (5/5), done.\u001b[K\n",
            "remote: Total 212 (delta 0), reused 1 (delta 0), pack-reused 207\u001b[K\n",
            "Receiving objects: 100% (212/212), 4.17 MiB | 13.48 MiB/s, done.\n",
            "Resolving deltas: 100% (98/98), done.\n"
          ]
        }
      ]
    },
    {
      "cell_type": "markdown",
      "metadata": {
        "id": "_YMK6ADrN1_O"
      },
      "source": [
        "## generate images\n",
        "\n",
        "**trunc**：truncation，number 0-2\n",
        "\n",
        "**seeds**: example: 1-5, generate image 1,2,3,4,5\n",
        "\n",
        "results in /**out**"
      ]
    },
    {
      "cell_type": "code",
      "source": [
        "os.chdir(root_path + '/stylegan3')"
      ],
      "metadata": {
        "id": "IGMTAIhaSQ4I"
      },
      "execution_count": null,
      "outputs": []
    },
    {
      "cell_type": "code",
      "source": [
        "!pwd"
      ],
      "metadata": {
        "id": "RwCevqTBp2CW",
        "colab": {
          "base_uri": "https://localhost:8080/"
        },
        "outputId": "5aa2f9a6-a596-4e80-9d9c-73cbacdfe9bc"
      },
      "execution_count": null,
      "outputs": [
        {
          "output_type": "stream",
          "name": "stdout",
          "text": [
            "/content/drive/MyDrive/dmlap-final/stylegan/stylegan3\n"
          ]
        }
      ]
    },
    {
      "cell_type": "code",
      "source": [
        "pip install Ninja"
      ],
      "metadata": {
        "colab": {
          "base_uri": "https://localhost:8080/"
        },
        "id": "QQgh16gizgbe",
        "outputId": "05a4d0ae-7f2b-4b21-8e65-b0ae6aa84bd4"
      },
      "execution_count": null,
      "outputs": [
        {
          "output_type": "stream",
          "name": "stdout",
          "text": [
            "Collecting Ninja\n",
            "  Downloading ninja-1.11.1.1-py2.py3-none-manylinux1_x86_64.manylinux_2_5_x86_64.whl (307 kB)\n",
            "\u001b[2K     \u001b[90m━━━━━━━━━━━━━━━━━━━━━━━━━━━━━━━━━━━━━━━━\u001b[0m \u001b[32m307.2/307.2 kB\u001b[0m \u001b[31m3.6 MB/s\u001b[0m eta \u001b[36m0:00:00\u001b[0m\n",
            "\u001b[?25hInstalling collected packages: Ninja\n",
            "Successfully installed Ninja-1.11.1.1\n"
          ]
        }
      ]
    },
    {
      "cell_type": "markdown",
      "source": [],
      "metadata": {
        "id": "59tzMVuQt9i6"
      }
    },
    {
      "cell_type": "code",
      "metadata": {
        "id": "P1_9acWpQ-Sw",
        "colab": {
          "base_uri": "https://localhost:8080/"
        },
        "outputId": "8a328405-15f9-4f71-c52f-622b014b6c6b"
      },
      "source": [
        "!python gen_images.py --outdir=out/trypophobia --trunc=0.75 --seeds=100-200 \\\n",
        "    --network=/content/drive/MyDrive/dmlap-final/stylegan/stylegan3/models/trypophobia.pkl"
      ],
      "execution_count": null,
      "outputs": [
        {
          "output_type": "stream",
          "name": "stdout",
          "text": [
            "Loading networks from \"/content/drive/MyDrive/dmlap-final/stylegan/stylegan3/models/trypophobia.pkl\"...\n",
            "Generating image for seed 100 (0/101) ...\n",
            "Setting up PyTorch plugin \"bias_act_plugin\"... Done.\n",
            "Setting up PyTorch plugin \"upfirdn2d_plugin\"... Done.\n",
            "Generating image for seed 101 (1/101) ...\n",
            "Generating image for seed 102 (2/101) ...\n",
            "Generating image for seed 103 (3/101) ...\n",
            "Generating image for seed 104 (4/101) ...\n",
            "Generating image for seed 105 (5/101) ...\n",
            "Generating image for seed 106 (6/101) ...\n",
            "Generating image for seed 107 (7/101) ...\n",
            "Generating image for seed 108 (8/101) ...\n",
            "Generating image for seed 109 (9/101) ...\n",
            "Generating image for seed 110 (10/101) ...\n",
            "Generating image for seed 111 (11/101) ...\n",
            "Generating image for seed 112 (12/101) ...\n",
            "Generating image for seed 113 (13/101) ...\n",
            "Generating image for seed 114 (14/101) ...\n",
            "Generating image for seed 115 (15/101) ...\n",
            "Generating image for seed 116 (16/101) ...\n",
            "Generating image for seed 117 (17/101) ...\n",
            "Generating image for seed 118 (18/101) ...\n",
            "Generating image for seed 119 (19/101) ...\n",
            "Generating image for seed 120 (20/101) ...\n",
            "Generating image for seed 121 (21/101) ...\n",
            "Generating image for seed 122 (22/101) ...\n",
            "Generating image for seed 123 (23/101) ...\n",
            "Generating image for seed 124 (24/101) ...\n",
            "Generating image for seed 125 (25/101) ...\n",
            "Generating image for seed 126 (26/101) ...\n",
            "Generating image for seed 127 (27/101) ...\n",
            "Generating image for seed 128 (28/101) ...\n",
            "Generating image for seed 129 (29/101) ...\n",
            "Generating image for seed 130 (30/101) ...\n",
            "Generating image for seed 131 (31/101) ...\n",
            "Generating image for seed 132 (32/101) ...\n",
            "Generating image for seed 133 (33/101) ...\n",
            "Generating image for seed 134 (34/101) ...\n",
            "Generating image for seed 135 (35/101) ...\n",
            "Generating image for seed 136 (36/101) ...\n",
            "Generating image for seed 137 (37/101) ...\n",
            "Generating image for seed 138 (38/101) ...\n",
            "Generating image for seed 139 (39/101) ...\n",
            "Generating image for seed 140 (40/101) ...\n",
            "Generating image for seed 141 (41/101) ...\n",
            "Generating image for seed 142 (42/101) ...\n",
            "Generating image for seed 143 (43/101) ...\n",
            "Generating image for seed 144 (44/101) ...\n",
            "Generating image for seed 145 (45/101) ...\n",
            "Generating image for seed 146 (46/101) ...\n",
            "Generating image for seed 147 (47/101) ...\n",
            "Generating image for seed 148 (48/101) ...\n",
            "Generating image for seed 149 (49/101) ...\n",
            "Generating image for seed 150 (50/101) ...\n",
            "Generating image for seed 151 (51/101) ...\n",
            "Generating image for seed 152 (52/101) ...\n",
            "Generating image for seed 153 (53/101) ...\n",
            "Generating image for seed 154 (54/101) ...\n",
            "Generating image for seed 155 (55/101) ...\n",
            "Generating image for seed 156 (56/101) ...\n",
            "Generating image for seed 157 (57/101) ...\n",
            "Generating image for seed 158 (58/101) ...\n",
            "Generating image for seed 159 (59/101) ...\n",
            "Generating image for seed 160 (60/101) ...\n",
            "Generating image for seed 161 (61/101) ...\n",
            "Generating image for seed 162 (62/101) ...\n",
            "Generating image for seed 163 (63/101) ...\n",
            "Generating image for seed 164 (64/101) ...\n",
            "Generating image for seed 165 (65/101) ...\n",
            "Generating image for seed 166 (66/101) ...\n",
            "Generating image for seed 167 (67/101) ...\n",
            "Generating image for seed 168 (68/101) ...\n",
            "Generating image for seed 169 (69/101) ...\n",
            "Generating image for seed 170 (70/101) ...\n",
            "Generating image for seed 171 (71/101) ...\n",
            "Generating image for seed 172 (72/101) ...\n",
            "Generating image for seed 173 (73/101) ...\n",
            "Generating image for seed 174 (74/101) ...\n",
            "Generating image for seed 175 (75/101) ...\n",
            "Generating image for seed 176 (76/101) ...\n",
            "Generating image for seed 177 (77/101) ...\n",
            "Generating image for seed 178 (78/101) ...\n",
            "Generating image for seed 179 (79/101) ...\n",
            "Generating image for seed 180 (80/101) ...\n",
            "Generating image for seed 181 (81/101) ...\n",
            "Generating image for seed 182 (82/101) ...\n",
            "Generating image for seed 183 (83/101) ...\n",
            "Generating image for seed 184 (84/101) ...\n",
            "Generating image for seed 185 (85/101) ...\n",
            "Generating image for seed 186 (86/101) ...\n",
            "Generating image for seed 187 (87/101) ...\n",
            "Generating image for seed 188 (88/101) ...\n",
            "Generating image for seed 189 (89/101) ...\n",
            "Generating image for seed 190 (90/101) ...\n",
            "Generating image for seed 191 (91/101) ...\n",
            "Generating image for seed 192 (92/101) ...\n",
            "Generating image for seed 193 (93/101) ...\n",
            "Generating image for seed 194 (94/101) ...\n",
            "Generating image for seed 195 (95/101) ...\n",
            "Generating image for seed 196 (96/101) ...\n",
            "Generating image for seed 197 (97/101) ...\n",
            "Generating image for seed 198 (98/101) ...\n",
            "Generating image for seed 199 (99/101) ...\n",
            "Generating image for seed 200 (100/101) ...\n"
          ]
        }
      ]
    },
    {
      "cell_type": "code",
      "source": [
        "!python gen_video.py --output=trypophobia0-7.mp4 --trunc=0.7 --seeds=80-111 --grid=1x1 \\\n",
        "    --network=/content/drive/MyDrive/dmlap-final/stylegan/stylegan3/models/trypophobia.pkl"
      ],
      "metadata": {
        "id": "6qL2vHJivqjZ"
      },
      "execution_count": null,
      "outputs": []
    }
  ]
}